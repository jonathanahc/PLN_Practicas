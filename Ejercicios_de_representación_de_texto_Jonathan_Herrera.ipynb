{
  "nbformat": 4,
  "nbformat_minor": 0,
  "metadata": {
    "colab": {
      "provenance": [],
      "authorship_tag": "ABX9TyPhN5zpO4nXDPXzk/AiT6+S",
      "include_colab_link": true
    },
    "kernelspec": {
      "name": "python3",
      "display_name": "Python 3"
    },
    "language_info": {
      "name": "python"
    }
  },
  "cells": [
    {
      "cell_type": "markdown",
      "metadata": {
        "id": "view-in-github",
        "colab_type": "text"
      },
      "source": [
        "<a href=\"https://colab.research.google.com/github/jonathanahc/PLN_Practicas/blob/main/Ejercicios_de_representaci%C3%B3n_de_texto_Jonathan_Herrera.ipynb\" target=\"_parent\"><img src=\"https://colab.research.google.com/assets/colab-badge.svg\" alt=\"Open In Colab\"/></a>"
      ]
    },
    {
      "cell_type": "code",
      "execution_count": 79,
      "metadata": {
        "colab": {
          "base_uri": "https://localhost:8080/"
        },
        "id": "ckcsLD54yh4K",
        "outputId": "e252664a-7de8-4b3d-b321-fbf8b8618ddb"
      },
      "outputs": [
        {
          "output_type": "stream",
          "name": "stdout",
          "text": [
            "Drive already mounted at /content/drive; to attempt to forcibly remount, call drive.mount(\"/content/drive\", force_remount=True).\n"
          ]
        }
      ],
      "source": [
        "from google.colab import drive\n",
        "drive.mount('/content/drive')"
      ]
    },
    {
      "cell_type": "code",
      "source": [
        "from sklearn.feature_extraction.text import CountVectorizer\n",
        "from sklearn.feature_extraction.text import TfidfVectorizer\n",
        "from unidecode import unidecode\n",
        "import spacy"
      ],
      "metadata": {
        "id": "dTzblfAN3uDb"
      },
      "execution_count": 80,
      "outputs": []
    },
    {
      "cell_type": "code",
      "source": [
        "corpus_es = [\n",
        "\"Me encantó la película, los actores fueron increíbles\",\n",
        "\"No me gustó la película, el guion fue muy malo\",\n",
        "\"La actuación fue excelente, pero la historia era predecible\",\n",
        "\"Película aburrida, me dormí a la mitad\",\n",
        "\"¡Maravillosa! Recomiendo esta película a todos mis amigos\",\n",
        "\"El guion estaba mal escrito, pero la actuación salvó la película\",\n",
        "\"Demasiado larga y lenta, no la volvería a ver\",\n",
        "\"Me gustó mucho, los efectos especiales fueron impresionantes\",\n",
        "\"No es mala, pero esperaba algo más emocionante\",\n",
        "\"Una obra maestra del cine español, increíble dirección\",\n",
        "\"El final fue confuso, no entendí nada\",\n",
        "\"Excelente cinematografía, pero el guion flojo\",\n",
        "\"Demasiado predecible, ya sabía lo que iba a pasar\",\n",
        "\"Me reí mucho, muy divertida y entretenida\",\n",
        "\"La música fue espectacular, pero los actores no convencieron\",\n",
        "\"Película mediocre, no aporta nada nuevo\",\n",
        "\"Excelente historia, emocionante hasta el final\",\n",
        "\"No me gustó la ambientación, parecía de bajo presupuesto\",\n",
        "\"Muy buena dirección y fotografía, la recomiendo\",\n",
        "\"El guion tenía agujeros, pero los efectos visuales impresionan\",\n",
        "\"Aburrida, diálogo poco natural\",\n",
        "\"Gran actuación de los protagonistas, realmente me impactó\",\n",
        "\"El ritmo es lento, pero la historia es interesante\",\n",
        "\"No la recomiendo, desperdicié mi tiempo\",\n",
        "\"Un clásico moderno, me encantó cada escena\",\n",
        "\"Las escenas de acción fueron espectaculares\",\n",
        "\"El humor es pobre y los personajes poco creíbles\",\n",
        "\"Me emocioné, la historia me llegó al corazón\",\n",
        "\"La trama es confusa y difícil de seguir\",\n",
        "\"Película fantástica, muy bien lograda\"\n",
        "]"
      ],
      "metadata": {
        "id": "uBaKWnZ-2Kq8"
      },
      "execution_count": 81,
      "outputs": []
    },
    {
      "cell_type": "markdown",
      "source": [
        "# **Sin procesar**"
      ],
      "metadata": {
        "id": "_FinbDgk9oMp"
      }
    },
    {
      "cell_type": "code",
      "source": [
        "conteo1 = CountVectorizer(lowercase=True, strip_accents='unicode')\n",
        "X_sinprocesar = conteo1.fit_transform(corpus_es)\n",
        "\n",
        "conteo2 = TfidfVectorizer(lowercase=True, strip_accents='unicode')\n",
        "Y_sinprocesar = conteo2.fit_transform(corpus_es)"
      ],
      "metadata": {
        "id": "cYyc535u4ZWl"
      },
      "execution_count": 82,
      "outputs": []
    },
    {
      "cell_type": "code",
      "source": [
        "print(\"********* CountVectorizer ********* \")\n",
        "print(\"Dimensiones:\", X_sinprocesar.shape)\n",
        "print(\"Primeros 10 tokens y sus índices:\")\n",
        "for token1, idx1 in list(conteo1.vocabulary_.items())[:10]:\n",
        "  print(f\"  {token1}: {idx1}\")\n",
        "\n",
        "print(\"\\n\")\n",
        "\n",
        "print(\"********* TfidVectorizer ********* \")\n",
        "print(\"Dimensiones:\", Y_sinprocesar.shape)\n",
        "print(\"Primeros 10 tokens y sus índices:\")\n",
        "for token2, idx2 in list(conteo2.vocabulary_.items())[:10]:\n",
        "  print(f\"  {token2}: {idx2}\")\n"
      ],
      "metadata": {
        "colab": {
          "base_uri": "https://localhost:8080/"
        },
        "id": "BrcVzico7F2_",
        "outputId": "9b654e49-c326-4555-a946-67dcc78591ca"
      },
      "execution_count": 83,
      "outputs": [
        {
          "output_type": "stream",
          "name": "stdout",
          "text": [
            "********* CountVectorizer ********* \n",
            "Dimensiones: (30, 127)\n",
            "Primeros 10 tokens y sus índices:\n",
            "  me: 85\n",
            "  encanto: 35\n",
            "  la: 70\n",
            "  pelicula: 101\n",
            "  los: 78\n",
            "  actores: 2\n",
            "  fueron: 56\n",
            "  increibles: 68\n",
            "  no: 96\n",
            "  gusto: 59\n",
            "\n",
            "\n",
            "********* TfidVectorizer ********* \n",
            "Dimensiones: (30, 127)\n",
            "Primeros 10 tokens y sus índices:\n",
            "  me: 85\n",
            "  encanto: 35\n",
            "  la: 70\n",
            "  pelicula: 101\n",
            "  los: 78\n",
            "  actores: 2\n",
            "  fueron: 56\n",
            "  increibles: 68\n",
            "  no: 96\n",
            "  gusto: 59\n"
          ]
        }
      ]
    },
    {
      "cell_type": "markdown",
      "source": [
        "# **Preprocesado**"
      ],
      "metadata": {
        "id": "2R0alqvk9yXm"
      }
    },
    {
      "cell_type": "code",
      "source": [
        "def preprocesado(texto):\n",
        "  texto = texto.lower()\n",
        "  texto = unidecode(texto)\n",
        "  nlp = spacy.load(\"es_core_news_sm\")\n",
        "  doc = nlp(texto)\n",
        "  stopwords = [token.text for token in doc if not token.is_stop and token.is_alpha]\n",
        "  return stopwords\n",
        "\n",
        "corpus_es_preprocesado = [preprocesado(texto) for texto in corpus_es]"
      ],
      "metadata": {
        "id": "fDedNKkq_eN2"
      },
      "execution_count": 84,
      "outputs": []
    },
    {
      "cell_type": "code",
      "source": [
        "print(corpus_es_preprocesado)"
      ],
      "metadata": {
        "colab": {
          "base_uri": "https://localhost:8080/"
        },
        "id": "xsg81p9GCgRL",
        "outputId": "bf9b3de4-8588-441e-c166-1bbeda7a61d5"
      },
      "execution_count": 85,
      "outputs": [
        {
          "output_type": "stream",
          "name": "stdout",
          "text": [
            "[['encanto', 'pelicula', 'actores', 'increibles'], ['gusto', 'pelicula', 'guion', 'malo'], ['actuacion', 'excelente', 'historia', 'predecible'], ['pelicula', 'aburrida', 'dormi', 'mitad'], ['maravillosa', 'recomiendo', 'pelicula', 'amigos'], ['guion', 'escrito', 'actuacion', 'pelicula'], ['larga', 'lenta', 'volveria'], ['gusto', 'efectos', 'especiales', 'impresionantes'], ['mala', 'esperaba', 'emocionante'], ['obra', 'maestra', 'cine', 'espanol', 'increible', 'direccion'], ['confuso', 'entendi'], ['excelente', 'cinematografia', 'guion', 'flojo'], ['predecible', 'sabia', 'iba', 'pasar'], ['rei', 'divertida', 'entretenida'], ['musica', 'espectacular', 'actores', 'convencieron'], ['pelicula', 'mediocre', 'aporta'], ['excelente', 'historia', 'emocionante'], ['gusto', 'ambientacion', 'parecia', 'presupuesto'], ['direccion', 'fotografia', 'recomiendo'], ['guion', 'tenia', 'agujeros', 'efectos', 'visuales', 'impresionan'], ['aburrida', 'dialogo', 'natural'], ['actuacion', 'protagonistas', 'realmente', 'impacto'], ['ritmo', 'lento', 'historia', 'interesante'], ['recomiendo', 'desperdicie', 'tiempo'], ['clasico', 'moderno', 'encanto', 'escena'], ['escenas', 'accion', 'espectaculares'], ['humor', 'pobre', 'personajes', 'creibles'], ['emocione', 'historia', 'llego', 'corazon'], ['trama', 'confusa', 'dificil', 'seguir'], ['pelicula', 'fantastica', 'lograda']]\n"
          ]
        }
      ]
    },
    {
      "cell_type": "code",
      "source": [
        "corpus_es_joined = [\" \".join(tokens) for tokens in corpus_es_preprocesado]\n",
        "\n",
        "conteo3 = CountVectorizer()\n",
        "X_preprocesado = conteo3.fit_transform(corpus_es_joined)\n",
        "\n",
        "conteo4 = TfidfVectorizer()\n",
        "Y_preprocesado = conteo4.fit_transform(corpus_es_joined)"
      ],
      "metadata": {
        "id": "WjmHf2-eDRG4"
      },
      "execution_count": 86,
      "outputs": []
    },
    {
      "cell_type": "code",
      "source": [
        "print(\"********* CountVectorizer ********* \")\n",
        "print(\"Dimensiones:\", X_preprocesado.shape)\n",
        "print(\"Primeros 10 tokens y sus índices:\")\n",
        "for token3, idx3 in list(conteo3.vocabulary_.items())[:10]:\n",
        "  print(f\"  {token3}: {idx3}\")\n",
        "\n",
        "print(\"\\n\")\n",
        "\n",
        "print(\"********* TfidVectorizer ********* \")\n",
        "print(\"Dimensiones:\", Y_preprocesado.shape)\n",
        "print(\"Primeros 10 tokens y sus índices:\")\n",
        "for token4, idx4 in list(conteo4.vocabulary_.items())[:10]:\n",
        "  print(f\"  {token4}: {idx4}\")\n"
      ],
      "metadata": {
        "colab": {
          "base_uri": "https://localhost:8080/"
        },
        "id": "1njVdd5BDkzW",
        "outputId": "226f6f1b-cb79-434f-937a-c0a7e7ba519c"
      },
      "execution_count": 87,
      "outputs": [
        {
          "output_type": "stream",
          "name": "stdout",
          "text": [
            "********* CountVectorizer ********* \n",
            "Dimensiones: (30, 85)\n",
            "Primeros 10 tokens y sus índices:\n",
            "  encanto: 25\n",
            "  pelicula: 68\n",
            "  actores: 2\n",
            "  increibles: 49\n",
            "  gusto: 41\n",
            "  guion: 40\n",
            "  malo: 58\n",
            "  actuacion: 3\n",
            "  excelente: 36\n",
            "  historia: 42\n",
            "\n",
            "\n",
            "********* TfidVectorizer ********* \n",
            "Dimensiones: (30, 85)\n",
            "Primeros 10 tokens y sus índices:\n",
            "  encanto: 25\n",
            "  pelicula: 68\n",
            "  actores: 2\n",
            "  increibles: 49\n",
            "  gusto: 41\n",
            "  guion: 40\n",
            "  malo: 58\n",
            "  actuacion: 3\n",
            "  excelente: 36\n",
            "  historia: 42\n"
          ]
        }
      ]
    }
  ]
}