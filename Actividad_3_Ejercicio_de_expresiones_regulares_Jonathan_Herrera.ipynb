{
  "nbformat": 4,
  "nbformat_minor": 0,
  "metadata": {
    "colab": {
      "provenance": [],
      "mount_file_id": "1r5DN2uCSinQMPORvRybi0l0VzIEGHDT3",
      "authorship_tag": "ABX9TyMegImfARKl5AqpDs3l8ge6",
      "include_colab_link": true
    },
    "kernelspec": {
      "name": "python3",
      "display_name": "Python 3"
    },
    "language_info": {
      "name": "python"
    }
  },
  "cells": [
    {
      "cell_type": "markdown",
      "metadata": {
        "id": "view-in-github",
        "colab_type": "text"
      },
      "source": [
        "<a href=\"https://colab.research.google.com/github/jonathanahc/PLN_Practicas/blob/main/Actividad_3_Ejercicio_de_expresiones_regulares_Jonathan_Herrera.ipynb\" target=\"_parent\"><img src=\"https://colab.research.google.com/assets/colab-badge.svg\" alt=\"Open In Colab\"/></a>"
      ]
    },
    {
      "cell_type": "code",
      "execution_count": null,
      "metadata": {
        "colab": {
          "base_uri": "https://localhost:8080/"
        },
        "id": "jg-Xt2ax9ROj",
        "outputId": "bd61a933-0c46-4bda-a56e-766bc5fda44a"
      },
      "outputs": [
        {
          "output_type": "stream",
          "name": "stdout",
          "text": [
            "Drive already mounted at /content/drive; to attempt to forcibly remount, call drive.mount(\"/content/drive\", force_remount=True).\n"
          ]
        }
      ],
      "source": [
        "from google.colab import drive\n",
        "drive.mount('/content/drive')"
      ]
    },
    {
      "cell_type": "code",
      "source": [
        "import re"
      ],
      "metadata": {
        "id": "7oZISPHCetXq"
      },
      "execution_count": null,
      "outputs": []
    },
    {
      "cell_type": "code",
      "source": [
        "with open(\"/content/drive/MyDrive/PLN/Actividad3.txt\", \"r\") as archivo:\n",
        "  contenido = archivo.read()"
      ],
      "metadata": {
        "id": "HsIVc5a_ZPdo"
      },
      "execution_count": null,
      "outputs": []
    },
    {
      "cell_type": "code",
      "source": [
        "print(contenido)"
      ],
      "metadata": {
        "colab": {
          "base_uri": "https://localhost:8080/"
        },
        "id": "VMsX--oYZ4Bv",
        "outputId": "3e053329-3cf0-4c79-e27b-f03fafc749bf"
      },
      "execution_count": null,
      "outputs": [
        {
          "output_type": "stream",
          "name": "stdout",
          "text": [
            "El 10 de agosto de 2025, María Pérez envió un correo electrónico a la dirección maria.perez@email.com solicitando información sobre el producto X-200. Su número de teléfono es +34 612-345-678. Además, visitó la web https://www.ejemplo.com para consultar precios y disponibilidad.\n",
            "\n",
            "El servidor registró el acceso desde la IP 192.168.1.15 a las 14:23:56, y se detectó un error en el log con código ERR500. En Twitter, el usuario @DataAnalyst comentó: \"Los modelos de IA son el futuro #MachineLearning #IA2025\". El totaal de la compra fue de $199.99, y el cliente pagó con tarjeta VISA terminada en 1234.\n",
            "\n",
            "Por otro lado, el DNI de Juan García es 12345678Z y su código postal 28080. Para más información, puede llamar al 911 234 567 o visitar www.informacion.es. Recordamos que las feechas límite para inscripción son 2025-09-30 y 2025-10-15.\n"
          ]
        }
      ]
    },
    {
      "cell_type": "markdown",
      "source": [
        "**1. Extraer todas las direcciones de correo electrónico.**\n",
        "\n"
      ],
      "metadata": {
        "id": "Ao92FsO8ahtz"
      }
    },
    {
      "cell_type": "code",
      "source": [
        "correo = re.findall(r'\\S+@\\S+\\.\\S+', contenido)\n",
        "print(correo)"
      ],
      "metadata": {
        "colab": {
          "base_uri": "https://localhost:8080/"
        },
        "id": "gdPAzj7u_yMs",
        "outputId": "953e6889-683c-4eb5-d353-4b63d00fd495"
      },
      "execution_count": null,
      "outputs": [
        {
          "output_type": "stream",
          "name": "stdout",
          "text": [
            "['maria.perez@email.com']\n"
          ]
        }
      ]
    },
    {
      "cell_type": "markdown",
      "source": [
        "**2. Extraer todas las URLs (con o sin protocolo).**"
      ],
      "metadata": {
        "id": "-fkL4dlkaqkA"
      }
    },
    {
      "cell_type": "code",
      "source": [
        "url = re.findall(r'https?://\\S+|www\\.\\S+', contenido)\n",
        "print(url)"
      ],
      "metadata": {
        "id": "hofNzxNia3Ry",
        "colab": {
          "base_uri": "https://localhost:8080/"
        },
        "outputId": "574d0bf3-cf19-4a9e-e979-b82592dd6878"
      },
      "execution_count": null,
      "outputs": [
        {
          "output_type": "stream",
          "name": "stdout",
          "text": [
            "['https://www.ejemplo.com', 'www.informacion.es.']\n"
          ]
        }
      ]
    },
    {
      "cell_type": "markdown",
      "source": [
        "**3. Validar y extraer números de teléfono en formato internacional y nacional.**"
      ],
      "metadata": {
        "id": "CpCanC-ha34b"
      }
    },
    {
      "cell_type": "code",
      "source": [
        "telefono = re.findall(r'\\+\\d{1,2}\\s\\d{3}-\\d{3}-\\d{3}|\\d{3}\\s\\d{3}\\s\\d{3}', contenido)\n",
        "print(telefono)"
      ],
      "metadata": {
        "id": "pMVtadMaa-rl",
        "colab": {
          "base_uri": "https://localhost:8080/"
        },
        "outputId": "88ea9442-50f6-49ff-8bd9-14c4c03a9787"
      },
      "execution_count": null,
      "outputs": [
        {
          "output_type": "stream",
          "name": "stdout",
          "text": [
            "['+34 612-345-678', '911 234 567']\n"
          ]
        }
      ]
    },
    {
      "cell_type": "markdown",
      "source": [
        "**4. Extraer fechas en formato yyyy-MM-dd.**"
      ],
      "metadata": {
        "id": "uYwqwnv0bAH6"
      }
    },
    {
      "cell_type": "code",
      "source": [
        "fechas = re.findall(r'\\d{4}-\\d{2}-\\d{2}', contenido)\n",
        "print(fechas)"
      ],
      "metadata": {
        "id": "fzkOE3_TbGEW",
        "colab": {
          "base_uri": "https://localhost:8080/"
        },
        "outputId": "a4097c44-95aa-436a-adfa-816a1cbb2a15"
      },
      "execution_count": null,
      "outputs": [
        {
          "output_type": "stream",
          "name": "stdout",
          "text": [
            "['2025-09-30', '2025-10-15']\n"
          ]
        }
      ]
    },
    {
      "cell_type": "markdown",
      "source": [
        "**5. Extraer códigos postales de 5 dígitos.**"
      ],
      "metadata": {
        "id": "5YHQ9z7lbGeY"
      }
    },
    {
      "cell_type": "code",
      "source": [
        "codigop = re.findall(r'\\b\\d{5}\\b', contenido)\n",
        "print(codigop)"
      ],
      "metadata": {
        "id": "mfET416EbOJs",
        "colab": {
          "base_uri": "https://localhost:8080/"
        },
        "outputId": "4ea15b00-8837-46e8-acfb-0ac2262156ee"
      },
      "execution_count": null,
      "outputs": [
        {
          "output_type": "stream",
          "name": "stdout",
          "text": [
            "['28080']\n"
          ]
        }
      ]
    },
    {
      "cell_type": "markdown",
      "source": [
        "**6. Extraer DNI (8 dígitos seguidos de letra mayúscula).**"
      ],
      "metadata": {
        "id": "jw-zVyJubeV5"
      }
    },
    {
      "cell_type": "code",
      "source": [
        "DNI = re.findall(r'\\d{8}[A-Z]', contenido)\n",
        "print(DNI)"
      ],
      "metadata": {
        "id": "Pzoyjj2Bbnrw",
        "colab": {
          "base_uri": "https://localhost:8080/"
        },
        "outputId": "08628436-2354-465e-bbc5-eeef841eb36a"
      },
      "execution_count": null,
      "outputs": [
        {
          "output_type": "stream",
          "name": "stdout",
          "text": [
            "['12345678Z']\n"
          ]
        }
      ]
    },
    {
      "cell_type": "markdown",
      "source": [
        "**7. Extraer menciones de Twitter.**"
      ],
      "metadata": {
        "id": "9iSFG4d_br-x"
      }
    },
    {
      "cell_type": "code",
      "source": [
        "twitter = re.findall(r'(?<![\\w\\.])@\\w+', contenido)\n",
        "print(twitter)"
      ],
      "metadata": {
        "id": "xLVM7AZ4bw0Y",
        "colab": {
          "base_uri": "https://localhost:8080/"
        },
        "outputId": "2f212ba0-3bf1-4972-b4bb-e712e4e4c25d"
      },
      "execution_count": null,
      "outputs": [
        {
          "output_type": "stream",
          "name": "stdout",
          "text": [
            "['@DataAnalyst']\n"
          ]
        }
      ]
    },
    {
      "cell_type": "markdown",
      "source": [
        "**8. Extraer hashtags.**"
      ],
      "metadata": {
        "id": "a5EyHjoXbxL4"
      }
    },
    {
      "cell_type": "code",
      "source": [
        "hashtags = re.findall(r'#\\w+', contenido)\n",
        "print(hashtags)"
      ],
      "metadata": {
        "id": "SgYk9yp3b4pF",
        "colab": {
          "base_uri": "https://localhost:8080/"
        },
        "outputId": "03a4fec2-7d4a-4ee8-b696-2b8dd9790a0c"
      },
      "execution_count": null,
      "outputs": [
        {
          "output_type": "stream",
          "name": "stdout",
          "text": [
            "['#MachineLearning', '#IA2025']\n"
          ]
        }
      ]
    },
    {
      "cell_type": "markdown",
      "source": [
        "**9. Extraer direcciones IP.**"
      ],
      "metadata": {
        "id": "cayECRVvcnm5"
      }
    },
    {
      "cell_type": "code",
      "source": [
        "IP = re.findall(r'\\d{1,3}\\.\\d{1,3}\\.\\d{1,3}\\.\\d{1,3}', contenido)\n",
        "print(IP)"
      ],
      "metadata": {
        "id": "vRdlnevZcvjf",
        "colab": {
          "base_uri": "https://localhost:8080/"
        },
        "outputId": "23e3ab63-50d1-4f30-cf7f-30333192b6d4"
      },
      "execution_count": null,
      "outputs": [
        {
          "output_type": "stream",
          "name": "stdout",
          "text": [
            "['192.168.1.15']\n"
          ]
        }
      ]
    },
    {
      "cell_type": "markdown",
      "source": [
        "**10. Extraer importes monetarios (con $ y decimales).**"
      ],
      "metadata": {
        "id": "Ge7HVo1lcv_9"
      }
    },
    {
      "cell_type": "code",
      "source": [
        "moneda = re.findall(r'\\$\\d+\\.\\d{2}', contenido)\n",
        "print(moneda)"
      ],
      "metadata": {
        "id": "vw5IdGpbc6C2",
        "colab": {
          "base_uri": "https://localhost:8080/"
        },
        "outputId": "33ec7cf2-50a3-447b-e7c8-7a292bc81786"
      },
      "execution_count": null,
      "outputs": [
        {
          "output_type": "stream",
          "name": "stdout",
          "text": [
            "['$199.99']\n"
          ]
        }
      ]
    },
    {
      "cell_type": "markdown",
      "source": [
        "**11. Eliminar letras repetidas.**"
      ],
      "metadata": {
        "id": "RRJWjvVac6mw"
      }
    },
    {
      "cell_type": "code",
      "source": [
        "letras = re.sub(r'([a-zA-Z])\\1+', r'\\1', contenido)\n",
        "print(letras)"
      ],
      "metadata": {
        "colab": {
          "base_uri": "https://localhost:8080/"
        },
        "id": "d5RgnLMFC32Z",
        "outputId": "fa0db612-4566-410e-d0b8-aefeaaa5af33"
      },
      "execution_count": null,
      "outputs": [
        {
          "output_type": "stream",
          "name": "stdout",
          "text": [
            "El 10 de agosto de 2025, María Pérez envió un coreo electrónico a la direción maria.perez@email.com solicitando información sobre el producto X-200. Su número de teléfono es +34 612-345-678. Además, visitó la web htps://w.ejemplo.com para consultar precios y disponibilidad.\n",
            "\n",
            "El servidor registró el aceso desde la IP 192.168.1.15 a las 14:23:56, y se detectó un eror en el log con código ER500. En Twiter, el usuario @DataAnalyst comentó: \"Los modelos de IA son el futuro #MachineLearning #IA2025\". El total de la compra fue de $199.99, y el cliente pagó con tarjeta VISA terminada en 1234.\n",
            "\n",
            "Por otro lado, el DNI de Juan García es 12345678Z y su código postal 28080. Para más información, puede lamar al 911 234 567 o visitar w.informacion.es. Recordamos que las fechas límite para inscripción son 2025-09-30 y 2025-10-15.\n"
          ]
        }
      ]
    }
  ]
}