{
  "nbformat": 4,
  "nbformat_minor": 0,
  "metadata": {
    "colab": {
      "provenance": [],
      "mount_file_id": "1cR5x8vGVgk7wteWe5WqhfCVH5L3WoSeB",
      "authorship_tag": "ABX9TyOMrHvwEu71XXZQdmX9bBob",
      "include_colab_link": true
    },
    "kernelspec": {
      "name": "python3",
      "display_name": "Python 3"
    },
    "language_info": {
      "name": "python"
    }
  },
  "cells": [
    {
      "cell_type": "markdown",
      "metadata": {
        "id": "view-in-github",
        "colab_type": "text"
      },
      "source": [
        "<a href=\"https://colab.research.google.com/github/jonathanahc/PLN_Practicas/blob/main/Aplicaci%C3%B3n_de_t%C3%A9cnicas_de_PLN_Jonathan_Herrera.ipynb\" target=\"_parent\"><img src=\"https://colab.research.google.com/assets/colab-badge.svg\" alt=\"Open In Colab\"/></a>"
      ]
    },
    {
      "cell_type": "code",
      "execution_count": 46,
      "metadata": {
        "colab": {
          "base_uri": "https://localhost:8080/"
        },
        "id": "KmeyiUeFLQJ6",
        "outputId": "462bb564-8dfc-458a-d5c9-f0921ccd60a7"
      },
      "outputs": [
        {
          "output_type": "stream",
          "name": "stdout",
          "text": [
            "Drive already mounted at /content/drive; to attempt to forcibly remount, call drive.mount(\"/content/drive\", force_remount=True).\n"
          ]
        }
      ],
      "source": [
        "from google.colab import drive\n",
        "drive.mount('/content/drive')"
      ]
    },
    {
      "cell_type": "code",
      "source": [
        "import re\n",
        "import spacy\n",
        "import nltk\n",
        "import stanza"
      ],
      "metadata": {
        "id": "GSduOyrdMRy6"
      },
      "execution_count": 65,
      "outputs": []
    },
    {
      "cell_type": "code",
      "source": [
        "with open(\"/content/drive/MyDrive/PLN/textoParaPreprocesar.txt\", \"r\", encoding='utf-8') as archivo:\n",
        "  contenido = archivo.read()"
      ],
      "metadata": {
        "id": "4yTu5pLEMT9p"
      },
      "execution_count": 48,
      "outputs": []
    },
    {
      "cell_type": "code",
      "source": [
        "print(contenido)"
      ],
      "metadata": {
        "colab": {
          "base_uri": "https://localhost:8080/"
        },
        "id": "eX-FdmM4MycI",
        "outputId": "11683b02-7d3a-4705-ea5b-1166011a3b1f"
      },
      "execution_count": 49,
      "outputs": [
        {
          "output_type": "stream",
          "name": "stdout",
          "text": [
            "\"\"\"En el Congreso Internacional de Inteligencia Artificial 2025 se discutieron avances muy importantes.\n",
            "@Maria comentó que la ética de la IA debe estar siempre en el centro de las investigaciones.\n",
            "Puedes leer más en http://ia-congreso2025.org o enviar tus dudas al correo contacto@ia2025.org.\n",
            "El Dr. Pérez afirmó: \"¡La innovación no se detiene!\". #InteligenciaArtificial #ÉticaDigital\n",
            "Además, varios expertos señalaron que la inteligencia artificial, la inteligencia artificial\n",
            "y la inteligencia artificial aparecen repetidamente en los debates académicos.\"\"\"\n"
          ]
        }
      ]
    },
    {
      "cell_type": "code",
      "source": [
        "texto_minusculas = contenido.lower()\n",
        "texto_sin_urls = re.sub(r'http\\S+', '', texto_minusculas)\n",
        "texto_sin_emails = re.sub(r'\\S+@\\S+', '', texto_sin_urls)\n",
        "texto_sin_hashtags = re.sub(r'#\\w+', '', texto_sin_emails)\n",
        "texto_sin_menciones = re.sub(r'@\\w+', '', texto_sin_hashtags)\n",
        "texto_limpio = re.sub(r'[^\\w\\s]', '', texto_sin_menciones)"
      ],
      "metadata": {
        "id": "l1BurvXY7Ven"
      },
      "execution_count": 68,
      "outputs": []
    },
    {
      "cell_type": "code",
      "source": [
        "print(texto_limpio)"
      ],
      "metadata": {
        "colab": {
          "base_uri": "https://localhost:8080/"
        },
        "id": "yWHwU2P0_jBL",
        "outputId": "69e2b638-ae21-467e-ca94-ccdfcdb403b4"
      },
      "execution_count": 69,
      "outputs": [
        {
          "output_type": "stream",
          "name": "stdout",
          "text": [
            "en el congreso internacional de inteligencia artificial 2025 se discutieron avances muy importantes\n",
            " comentó que la ética de la ia debe estar siempre en el centro de las investigaciones\n",
            "puedes leer más en  o enviar tus dudas al correo \n",
            "el dr pérez afirmó la innovación no se detiene  \n",
            "además varios expertos señalaron que la inteligencia artificial la inteligencia artificial\n",
            "y la inteligencia artificial aparecen repetidamente en los debates académicos\n"
          ]
        }
      ]
    },
    {
      "cell_type": "code",
      "source": [
        "nlp = spacy.load(\"en_core_web_sm\")\n",
        "doc = nlp(texto_limpio)\n",
        "tokens = [token.text for token in doc]\n",
        "print(tokens)"
      ],
      "metadata": {
        "colab": {
          "base_uri": "https://localhost:8080/"
        },
        "id": "1qXMyXcUH4Xs",
        "outputId": "ec242694-f2fb-4053-9466-a6086482ebdc"
      },
      "execution_count": 72,
      "outputs": [
        {
          "output_type": "stream",
          "name": "stdout",
          "text": [
            "['en', 'el', 'congreso', 'internacional', 'de', 'inteligencia', 'artificial', '2025', 'se', 'discutieron', 'avances', 'muy', 'importantes', '\\n ', 'comentó', 'que', 'la', 'ética', 'de', 'la', 'ia', 'debe', 'estar', 'siempre', 'en', 'el', 'centro', 'de', 'las', 'investigaciones', '\\n', 'puedes', 'leer', 'más', 'en', ' ', 'o', 'enviar', 'tus', 'dudas', 'al', 'correo', '\\n', 'el', 'dr', 'pérez', 'afirmó', 'la', 'innovación', 'no', 'se', 'detiene', ' \\n', 'además', 'varios', 'expertos', 'señalaron', 'que', 'la', 'inteligencia', 'artificial', 'la', 'inteligencia', 'artificial', '\\n', 'y', 'la', 'inteligencia', 'artificial', 'aparecen', 'repetidamente', 'en', 'los', 'debates', 'académicos']\n"
          ]
        }
      ]
    },
    {
      "cell_type": "code",
      "source": [
        "nlp = spacy.load(\"es_core_news_sm\")\n",
        "doc = nlp(texto_limpio)\n",
        "for token in doc:\n",
        "  print(token.text, \"→\", token.lemma_)"
      ],
      "metadata": {
        "colab": {
          "base_uri": "https://localhost:8080/"
        },
        "id": "Y9sdlpRyUUlV",
        "outputId": "35902b9d-20b9-4580-c16c-092f7846d35e"
      },
      "execution_count": 73,
      "outputs": [
        {
          "output_type": "stream",
          "name": "stdout",
          "text": [
            "en → en\n",
            "el → el\n",
            "congreso → congreso\n",
            "internacional → internacional\n",
            "de → de\n",
            "inteligencia → inteligencia\n",
            "artificial → artificial\n",
            "2025 → 2025\n",
            "se → él\n",
            "discutieron → discutir\n",
            "avances → avance\n",
            "muy → mucho\n",
            "importantes → importante\n",
            "\n",
            "  → \n",
            " \n",
            "comentó → comentar\n",
            "que → que\n",
            "la → el\n",
            "ética → ética\n",
            "de → de\n",
            "la → el\n",
            "ia → ia\n",
            "debe → deber\n",
            "estar → estar\n",
            "siempre → siempre\n",
            "en → en\n",
            "el → el\n",
            "centro → centro\n",
            "de → de\n",
            "las → el\n",
            "investigaciones → investigación\n",
            "\n",
            " → \n",
            "\n",
            "puedes → poder\n",
            "leer → leer\n",
            "más → más\n",
            "en → en\n",
            "  →  \n",
            "o → o\n",
            "enviar → enviar\n",
            "tus → tu\n",
            "dudas → duda\n",
            "al → al\n",
            "correo → correo\n",
            "\n",
            " → \n",
            "\n",
            "el → el\n",
            "dr → dr\n",
            "pérez → pérez\n",
            "afirmó → afirmar\n",
            "la → el\n",
            "innovación → innovación\n",
            "no → no\n",
            "se → él\n",
            "detiene → detener\n",
            " \n",
            " →  \n",
            "\n",
            "además → además\n",
            "varios → varios\n",
            "expertos → experto\n",
            "señalaron → señalar\n",
            "que → que\n",
            "la → el\n",
            "inteligencia → inteligencia\n",
            "artificial → artificial\n",
            "la → el\n",
            "inteligencia → inteligencia\n",
            "artificial → artificial\n",
            "\n",
            " → \n",
            "\n",
            "y → y\n",
            "la → el\n",
            "inteligencia → inteligencia\n",
            "artificial → artificial\n",
            "aparecen → aparecer\n",
            "repetidamente → repetidamente\n",
            "en → en\n",
            "los → el\n",
            "debates → debate\n",
            "académicos → académico\n"
          ]
        }
      ]
    },
    {
      "cell_type": "code",
      "source": [
        "nlp = spacy.load(\"es_core_news_sm\")\n",
        "doc = nlp(texto_limpio)\n",
        "tokens_filtrados = [token.text for token in doc if not token.is_stop and token.is_alpha]\n",
        "print(tokens_filtrados)"
      ],
      "metadata": {
        "colab": {
          "base_uri": "https://localhost:8080/"
        },
        "id": "s4zS8dJnXFGT",
        "outputId": "9cc932f9-4ef6-4c8d-b592-62119f909c01"
      },
      "execution_count": 74,
      "outputs": [
        {
          "output_type": "stream",
          "name": "stdout",
          "text": [
            "['congreso', 'internacional', 'inteligencia', 'artificial', 'discutieron', 'avances', 'importantes', 'ética', 'ia', 'centro', 'investigaciones', 'puedes', 'leer', 'enviar', 'dudas', 'correo', 'dr', 'pérez', 'innovación', 'detiene', 'expertos', 'señalaron', 'inteligencia', 'artificial', 'inteligencia', 'artificial', 'inteligencia', 'artificial', 'aparecen', 'repetidamente', 'debates', 'académicos']\n"
          ]
        }
      ]
    }
  ]
}